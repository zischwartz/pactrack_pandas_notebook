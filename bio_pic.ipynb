{
 "cells": [
  {
   "cell_type": "code",
   "execution_count": 1,
   "metadata": {},
   "outputs": [
    {
     "data": {
      "application/javascript": [
       "require([\"codemirror/keymap/sublime\", \"notebook/js/cell\", \"base/js/namespace\"],\n",
       "    function(sublime_keymap, cell, IPython) {\n",
       "        cell.Cell.options_default.cm_config.keyMap = 'sublime';\n",
       "        var cells = IPython.notebook.get_cells();\n",
       "        for(var cl=0; cl< cells.length ; cl++){\n",
       "            cells[cl].code_mirror.setOption('keyMap', 'sublime');\n",
       "        }\n",
       "    }\n",
       ");"
      ],
      "text/plain": [
       "<IPython.core.display.Javascript object>"
      ]
     },
     "metadata": {},
     "output_type": "display_data"
    },
    {
     "name": "stdout",
     "output_type": "stream",
     "text": [
      "loading: pas218.zip\n",
      "True\n",
      "before 228152\n",
      "after 203946\n"
     ]
    },
    {
     "name": "stderr",
     "output_type": "stream",
     "text": [
      "/home/jovyan/work/download_data.py:91: FutureWarning: \n",
      "Passing list-likes to .loc or [] with any missing label will raise\n",
      "KeyError in the future, you can use .reindex() as an alternative.\n",
      "\n",
      "See the documentation here:\n",
      "https://pandas.pydata.org/pandas-docs/stable/indexing.html#deprecate-loc-reindex-listlike\n",
      "  result_df = result_df.loc[result_df.groupby('TRAN_ID')['TRANSACTION_DT'].idxmax()]\n"
     ]
    }
   ],
   "source": [
    "import pandas as pd\n",
    "import numpy as np\n",
    "import os\n",
    "import os.path\n",
    "# from functools import reduce\n",
    "from download_data import get_df \n",
    "# hooray nice sublime keymaps!\n",
    "import my_keymap\n",
    "\n",
    "pd.set_option('max_columns', 40)\n",
    "pd.set_option('display.float_format', lambda x: '{:,.2f}'.format(x))"
   ]
  },
  {
   "cell_type": "code",
   "execution_count": 2,
   "metadata": {},
   "outputs": [],
   "source": [
    "# for getting the bio id, for photos of candidates copied from explore\n",
    "#\n",
    "#\n",
    "\n",
    "# lets try to get the bio id for a given fec candidate id\n",
    "\n",
    "# helper, simpler than the other, not a zip, no concat\n",
    "# basically just caches the file locally\n",
    "def get_df_from_url(file_url):\n",
    "    file_name = file_url.split('/')[-1]\n",
    "#     print(file_name)\n",
    "    if not os.path.isfile(file_name):\n",
    "        ! curl -L $file_url > $file_name\n",
    "    df = pd.read_csv(file_name,  sep=',', low_memory=False)\n",
    "    return df\n",
    "# , header=None, names=names,\n",
    "every_legis = get_df_from_url('https://theunitedstates.io/congress-legislators/legislators-current.csv')\n",
    "# legis[0:5]\n",
    "# print(len(every_legis))\n",
    "hist_url = 'https://theunitedstates.io/congress-legislators/legislators-historical.csv'\n",
    "hist_legis = get_df_from_url(hist_url)\n",
    "# print(len(hist_legis))\n",
    "every_legis = every_legis.append(hist_legis, ignore_index=True)\n",
    "# print(len(every_legis))\n",
    "\n",
    "legis = every_legis.dropna(subset=['fec_ids', 'bioguide_id'])\n",
    "\n",
    "# print(len(legis))\n",
    "\n",
    "def get_bioguide_id_from_fec_id(fec_id):\n",
    "    res = legis[legis.fec_ids.str.contains(fec_id)]\n",
    "#     print(res)\n",
    "    if len(res) is 1:\n",
    "        res = res.reset_index()\n",
    "        return res.bioguide_id[0]\n",
    "    else:\n",
    "        return \n",
    "\n",
    "# probably the right way to do it is more like this, but not really neccessary, faster to hack it\n",
    "# legis['fec_ids'][0:10].str.split(',', expand=True)\n",
    "\n",
    "# get_bioguide_id_from_fec_id('H0DC00058')\n",
    "# get_bioguide_id_from_fec_id('Hfwf0DC00058')\n",
    "# legis.info()"
   ]
  },
  {
   "cell_type": "code",
   "execution_count": null,
   "metadata": {},
   "outputs": [],
   "source": []
  }
 ],
 "metadata": {
  "kernelspec": {
   "display_name": "Python 3",
   "language": "python",
   "name": "python3"
  },
  "language_info": {
   "codemirror_mode": {
    "name": "ipython",
    "version": 3
   },
   "file_extension": ".py",
   "mimetype": "text/x-python",
   "name": "python",
   "nbconvert_exporter": "python",
   "pygments_lexer": "ipython3",
   "version": "3.6.5"
  }
 },
 "nbformat": 4,
 "nbformat_minor": 2
}
